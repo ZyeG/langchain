{
 "cells": [
  {
   "cell_type": "code",
   "execution_count": null,
   "metadata": {},
   "outputs": [],
   "source": [
    "# !pip install slack_sdk\n",
    "# get slack token: https://api.slack.com/tutorials/tracks/getting-a-token\n",
    "import os\n",
    "os.environ[\"OPENAI_API_KEY\"] = \"\"\n",
    "os.environ[\"SLACK_BOT_TOKEN\"]= \"\"\n",
    "os.environ[\"SLACK_USER_TOKEN\"]= \"\"\n",
    "from langchain.agents.agent_toolkits import SlackToolkit\n",
    "toolkit = SlackToolkit()\n",
    "tools = toolkit.get_tools()\n",
    "tools\n",
    "\n",
    "from langchain.tools.slack.send_message import SlackSendMessage\n",
    "tool = SlackSendMessage()\n",
    "output = tool._run(message= \"hi tool run\", channel=\"C0659C2D43F\" )\n",
    "from langchain.tools.slack.get_channel import SlackGetChannel\n",
    "tool = SlackGetChannel()\n",
    "output = tool._run()\n",
    "from langchain.tools.slack.get_message import SlackGetMessage\n",
    "tool = SlackGetMessage()\n",
    "output = tool._run(channel_id=\"C0659C2D43F\")\n",
    "# init an agent to use the slack toolkit\n",
    "from langchain.llms import OpenAI\n",
    "from langchain.agents import initialize_agent, AgentType\n",
    "\n",
    "llm = OpenAI(temperature=0)\n",
    "agent = initialize_agent(\n",
    "    tools=toolkit.get_tools(),\n",
    "    llm=llm,\n",
    "    verbose=False,\n",
    "    agent=AgentType.STRUCTURED_CHAT_ZERO_SHOT_REACT_DESCRIPTION,\n",
    ")\n",
    "# send message to channel\n",
    "agent.run(\"send message 'hithere' to channel with name 'joytest'\")\n",
    "# admin\n",
    "agent.run(\"how many channels are there? what are their names? which one was created earliest? How many members are in each\")\n",
    "# get message history of channel\n",
    "agent.run(\"how many messages are there in channel 'general' ?\")"
   ]
  }
 ],
 "metadata": {
  "language_info": {
   "name": "python"
  }
 },
 "nbformat": 4,
 "nbformat_minor": 2
}
