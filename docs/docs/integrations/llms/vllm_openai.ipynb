{
 "cells": [
  {
   "cell_type": "code",
   "execution_count": null,
   "metadata": {},
   "outputs": [],
   "source": [
    "# e.g. cited from https://vllm.readthedocs.io/en/latest/getting_started/quickstart.html#openai-compatible-server\n",
    "\n",
    "# start server which hosts model opt-125m\n",
    "! python -m vllm.entrypoints.openai.api_server --model facebook/opt-125m\n",
    "\n"
   ]
  },
  {
   "cell_type": "code",
   "execution_count": null,
   "metadata": {},
   "outputs": [],
   "source": [
    "# continue e.g. above\n",
    "# query server via openAI api\n",
    "\n",
    "import openai\n",
    "# Modify OpenAI's API key and API base to use vLLM's API server.\n",
    "openai.api_key = \"EMPTY\"\n",
    "openai.api_base = \"http://localhost:8000/v1\"\n",
    "completion = openai.Completion.create(model=\"facebook/opt-125m\",\n",
    "                                      prompt=\"San Francisco is a\")\n",
    "print(\"Completion result:\", completion)"
   ]
  },
  {
   "cell_type": "code",
   "execution_count": null,
   "metadata": {},
   "outputs": [],
   "source": [
    "# alternatively, query server via langchain\n",
    "from langchain.llms import VLLMOpenAI\n",
    "\n",
    "base_url = \"http://localhost:8000/v1\"\n",
    "\n",
    "llm = VLLMOpenAI(\n",
    "    openai_api_base=base_url,\n",
    "    openai_api_key=\"EMPTY\",\n",
    "    model_name=\"tiiuae/falcon-7b\",\n",
    "    temperature=0\n",
    ")\n",
    "llm(\"Hello world!\")"
   ]
  }
 ],
 "metadata": {
  "kernelspec": {
   "display_name": "Python 3 (ipykernel)",
   "language": "python",
   "name": "python3"
  },
  "language_info": {
   "codemirror_mode": {
    "name": "ipython",
    "version": 3
   },
   "file_extension": ".py",
   "mimetype": "text/x-python",
   "name": "python",
   "nbconvert_exporter": "python",
   "pygments_lexer": "ipython3",
   "version": "3.11.4"
  }
 },
 "nbformat": 4,
 "nbformat_minor": 4
}
